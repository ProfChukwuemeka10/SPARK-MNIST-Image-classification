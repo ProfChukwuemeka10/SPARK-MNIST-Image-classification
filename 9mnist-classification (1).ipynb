{
 "cells": [
  {
   "cell_type": "markdown",
   "id": "24026ba8",
   "metadata": {
    "papermill": {
     "duration": 0.003864,
     "end_time": "2025-04-06T06:54:12.542711",
     "exception": false,
     "start_time": "2025-04-06T06:54:12.538847",
     "status": "completed"
    },
    "tags": []
   },
   "source": [
    "# MNIST_classification\n",
    "\n",
    "A PyTorch implementation of the MNIST digit classification task using a neural network. The model is trained to recognise handwritten digits from the MNIST dataset, leveraging PyTorch's built-in functions for data loading, model building, and training."
   ]
  },
  {
   "cell_type": "markdown",
   "id": "a8b76b7b",
   "metadata": {
    "papermill": {
     "duration": 0.003066,
     "end_time": "2025-04-06T06:54:12.549303",
     "exception": false,
     "start_time": "2025-04-06T06:54:12.546237",
     "status": "completed"
    },
    "tags": []
   },
   "source": [
    "# Section 0: Import Libraries"
   ]
  },
  {
   "cell_type": "code",
   "execution_count": 1,
   "id": "8849824e",
   "metadata": {
    "execution": {
     "iopub.execute_input": "2025-04-06T06:54:12.556462Z",
     "iopub.status.busy": "2025-04-06T06:54:12.556245Z",
     "iopub.status.idle": "2025-04-06T06:54:19.974647Z",
     "shell.execute_reply": "2025-04-06T06:54:19.973712Z"
    },
    "id": "1mTvGDgyItT2",
    "papermill": {
     "duration": 7.423843,
     "end_time": "2025-04-06T06:54:19.976406",
     "exception": false,
     "start_time": "2025-04-06T06:54:12.552563",
     "status": "completed"
    },
    "tags": []
   },
   "outputs": [],
   "source": [
    "import torch\n",
    "import torch.nn as nn\n",
    "import torch.optim as optim\n",
    "from torchvision import datasets, transforms\n",
    "import matplotlib.pyplot as plt\n",
    "import numpy as np"
   ]
  },
  {
   "cell_type": "code",
   "execution_count": 2,
   "id": "61fee376",
   "metadata": {
    "execution": {
     "iopub.execute_input": "2025-04-06T06:54:19.984546Z",
     "iopub.status.busy": "2025-04-06T06:54:19.984186Z",
     "iopub.status.idle": "2025-04-06T06:54:20.033553Z",
     "shell.execute_reply": "2025-04-06T06:54:20.032680Z"
    },
    "id": "pDdfMvVFI3I9",
    "outputId": "eb5a74bc-2cd2-40f1-a754-d61433930f7d",
    "papermill": {
     "duration": 0.054823,
     "end_time": "2025-04-06T06:54:20.034909",
     "exception": false,
     "start_time": "2025-04-06T06:54:19.980086",
     "status": "completed"
    },
    "tags": []
   },
   "outputs": [
    {
     "name": "stdout",
     "output_type": "stream",
     "text": [
      "Device: cuda\n"
     ]
    }
   ],
   "source": [
    "# Check if CUDA is available (for GPU acceleration)\n",
    "device = torch.device(\"cuda\" if torch.cuda.is_available() else \"cpu\")  # Use \"cuda\" if available, otherwise fallback to \"cpu\"\n",
    "print('Device:', device)"
   ]
  },
  {
   "cell_type": "markdown",
   "id": "4fe55407",
   "metadata": {
    "papermill": {
     "duration": 0.005613,
     "end_time": "2025-04-06T06:54:20.044198",
     "exception": false,
     "start_time": "2025-04-06T06:54:20.038585",
     "status": "completed"
    },
    "tags": []
   },
   "source": [
    "# Section 1: Load Data"
   ]
  },
  {
   "cell_type": "code",
   "execution_count": 3,
   "id": "ac4391e9",
   "metadata": {
    "execution": {
     "iopub.execute_input": "2025-04-06T06:54:20.056543Z",
     "iopub.status.busy": "2025-04-06T06:54:20.056281Z",
     "iopub.status.idle": "2025-04-06T06:54:25.201117Z",
     "shell.execute_reply": "2025-04-06T06:54:25.200042Z"
    },
    "id": "3DSa393cI8Sx",
    "outputId": "5540b9ad-bd6e-4e2d-c3b3-7b1e5450e041",
    "papermill": {
     "duration": 5.15226,
     "end_time": "2025-04-06T06:54:25.202500",
     "exception": false,
     "start_time": "2025-04-06T06:54:20.050240",
     "status": "completed"
    },
    "tags": []
   },
   "outputs": [
    {
     "name": "stdout",
     "output_type": "stream",
     "text": [
      "Downloading http://yann.lecun.com/exdb/mnist/train-images-idx3-ubyte.gz\n",
      "Failed to download (trying next):\n",
      "HTTP Error 404: Not Found\n",
      "\n",
      "Downloading https://ossci-datasets.s3.amazonaws.com/mnist/train-images-idx3-ubyte.gz\n",
      "Downloading https://ossci-datasets.s3.amazonaws.com/mnist/train-images-idx3-ubyte.gz to /kaggle/working/MNIST/raw/train-images-idx3-ubyte.gz\n"
     ]
    },
    {
     "name": "stderr",
     "output_type": "stream",
     "text": [
      "100%|██████████| 9.91M/9.91M [00:00<00:00, 13.1MB/s]\n"
     ]
    },
    {
     "name": "stdout",
     "output_type": "stream",
     "text": [
      "Extracting /kaggle/working/MNIST/raw/train-images-idx3-ubyte.gz to /kaggle/working/MNIST/raw\n",
      "\n",
      "Downloading http://yann.lecun.com/exdb/mnist/train-labels-idx1-ubyte.gz\n",
      "Failed to download (trying next):\n",
      "HTTP Error 404: Not Found\n",
      "\n",
      "Downloading https://ossci-datasets.s3.amazonaws.com/mnist/train-labels-idx1-ubyte.gz\n",
      "Downloading https://ossci-datasets.s3.amazonaws.com/mnist/train-labels-idx1-ubyte.gz to /kaggle/working/MNIST/raw/train-labels-idx1-ubyte.gz\n"
     ]
    },
    {
     "name": "stderr",
     "output_type": "stream",
     "text": [
      "100%|██████████| 28.9k/28.9k [00:00<00:00, 342kB/s]\n"
     ]
    },
    {
     "name": "stdout",
     "output_type": "stream",
     "text": [
      "Extracting /kaggle/working/MNIST/raw/train-labels-idx1-ubyte.gz to /kaggle/working/MNIST/raw\n",
      "\n",
      "Downloading http://yann.lecun.com/exdb/mnist/t10k-images-idx3-ubyte.gz\n",
      "Failed to download (trying next):\n",
      "HTTP Error 404: Not Found\n",
      "\n",
      "Downloading https://ossci-datasets.s3.amazonaws.com/mnist/t10k-images-idx3-ubyte.gz\n",
      "Downloading https://ossci-datasets.s3.amazonaws.com/mnist/t10k-images-idx3-ubyte.gz to /kaggle/working/MNIST/raw/t10k-images-idx3-ubyte.gz\n"
     ]
    },
    {
     "name": "stderr",
     "output_type": "stream",
     "text": [
      "100%|██████████| 1.65M/1.65M [00:00<00:00, 3.23MB/s]\n"
     ]
    },
    {
     "name": "stdout",
     "output_type": "stream",
     "text": [
      "Extracting /kaggle/working/MNIST/raw/t10k-images-idx3-ubyte.gz to /kaggle/working/MNIST/raw\n",
      "\n",
      "Downloading http://yann.lecun.com/exdb/mnist/t10k-labels-idx1-ubyte.gz\n",
      "Failed to download (trying next):\n",
      "HTTP Error 404: Not Found\n",
      "\n",
      "Downloading https://ossci-datasets.s3.amazonaws.com/mnist/t10k-labels-idx1-ubyte.gz\n",
      "Downloading https://ossci-datasets.s3.amazonaws.com/mnist/t10k-labels-idx1-ubyte.gz to /kaggle/working/MNIST/raw/t10k-labels-idx1-ubyte.gz\n"
     ]
    },
    {
     "name": "stderr",
     "output_type": "stream",
     "text": [
      "100%|██████████| 4.54k/4.54k [00:00<00:00, 7.08MB/s]"
     ]
    },
    {
     "name": "stdout",
     "output_type": "stream",
     "text": [
      "Extracting /kaggle/working/MNIST/raw/t10k-labels-idx1-ubyte.gz to /kaggle/working/MNIST/raw\n",
      "\n"
     ]
    },
    {
     "name": "stderr",
     "output_type": "stream",
     "text": [
      "\n"
     ]
    }
   ],
   "source": [
    "transform = transforms.Compose([transforms.ToTensor()])         # Define any data transformations (e.g., ToTensor, Normalize, etc.)\n",
    "train_dataset = datasets.MNIST(root = '/kaggle/working/', train = True, download=True, transform=transform)     # Load the training dataset with the defined transform\n",
    "test_dataset = datasets.MNIST(root = '/kaggle/working/', train = False, download=True, transform=transform)      # Load the test dataset with the defined transform"
   ]
  },
  {
   "cell_type": "code",
   "execution_count": 4,
   "id": "2cc0ff02",
   "metadata": {
    "execution": {
     "iopub.execute_input": "2025-04-06T06:54:25.213420Z",
     "iopub.status.busy": "2025-04-06T06:54:25.213200Z",
     "iopub.status.idle": "2025-04-06T06:54:25.483804Z",
     "shell.execute_reply": "2025-04-06T06:54:25.482968Z"
    },
    "papermill": {
     "duration": 0.277405,
     "end_time": "2025-04-06T06:54:25.485123",
     "exception": false,
     "start_time": "2025-04-06T06:54:25.207718",
     "status": "completed"
    },
    "tags": []
   },
   "outputs": [
    {
     "name": "stdout",
     "output_type": "stream",
     "text": [
      "torch.Size([60000, 28, 28])\n",
      "torch.Size([10000, 28, 28])\n",
      "<class 'int'>\n",
      "0 255\n",
      "torch.Size([60000])\n",
      "5\n"
     ]
    },
    {
     "data": {
      "image/png": "[encoded data removed]",
      "text/plain": [
       "<Figure size 640x480 with 1 Axes>"
      ]
     },
     "metadata": {},
     "output_type": "display_data"
    }
   ],
   "source": [
    "print(train_dataset.data.shape)                   # Print shape of training data\n",
    "print(test_dataset.data.shape)                    # Print shape of test data\n",
    "print(type(train_dataset.data[0,0,0].item()))     # Print data type of a pixel\n",
    "print(train_dataset.data.min().item(), train_dataset.data.max().item())  # Print min and max pixel values\n",
    "print(train_dataset.targets.shape)                # Print shape of labels\n",
    "print(train_dataset.targets[0].item())            # Print the first label\n",
    "\n",
    "# Display the first training image\n",
    "plt.imshow(train_dataset.data[0], cmap='gray')\n",
    "plt.title(f'Label: {train_dataset.targets[0].item()}')\n",
    "plt.show()"
   ]
  },
  {
   "cell_type": "markdown",
   "id": "3296bb06",
   "metadata": {
    "papermill": {
     "duration": 0.004978,
     "end_time": "2025-04-06T06:54:25.495386",
     "exception": false,
     "start_time": "2025-04-06T06:54:25.490408",
     "status": "completed"
    },
    "tags": []
   },
   "source": [
    "# Section 2: Preprocessing"
   ]
  },
  {
   "cell_type": "code",
   "execution_count": 5,
   "id": "106ac8b9",
   "metadata": {
    "execution": {
     "iopub.execute_input": "2025-04-06T06:54:25.506163Z",
     "iopub.status.busy": "2025-04-06T06:54:25.505922Z",
     "iopub.status.idle": "2025-04-06T06:54:25.869427Z",
     "shell.execute_reply": "2025-04-06T06:54:25.868672Z"
    },
    "id": "5LzVsA1vI8dR",
    "outputId": "f1a17d21-3f94-4c33-fd6b-ce430e439ae7",
    "papermill": {
     "duration": 0.37043,
     "end_time": "2025-04-06T06:54:25.870778",
     "exception": false,
     "start_time": "2025-04-06T06:54:25.500348",
     "status": "completed"
    },
    "tags": []
   },
   "outputs": [
    {
     "name": "stdout",
     "output_type": "stream",
     "text": [
      "0.0 1.0\n",
      "5\n"
     ]
    },
    {
     "data": {
      "image/png": "[encoded data removed]",
      "text/plain": [
       "<Figure size 640x480 with 1 Axes>"
      ]
     },
     "metadata": {},
     "output_type": "display_data"
    }
   ],
   "source": [
    "train_dataset.data = train_dataset.data.float()/255.0  # Normalize training data by dividing by 255.0\n",
    "test_dataset.data = test_dataset.data.float()/255.0   # Normalize test data by dividing by 255.0\n",
    "\n",
    "print(train_dataset.data.min().item(), train_dataset.data.max().item())  # Print min and max pixel values\n",
    "print(train_dataset.targets[0].item())  # Print the first label\n",
    "\n",
    "# Display the first image in the training dataset\n",
    "plt.imshow(train_dataset.data[0], cmap='gray')\n",
    "plt.title(f'Label: {train_dataset.targets[0].item()}')\n",
    "plt.show()"
   ]
  },
  {
   "cell_type": "markdown",
   "id": "def36d60",
   "metadata": {
    "papermill": {
     "duration": 0.005607,
     "end_time": "2025-04-06T06:54:25.882116",
     "exception": false,
     "start_time": "2025-04-06T06:54:25.876509",
     "status": "completed"
    },
    "tags": []
   },
   "source": [
    "# Section 3: Define Hyperparameters"
   ]
  },
  {
   "cell_type": "code",
   "execution_count": 6,
   "id": "5c38ab61",
   "metadata": {
    "execution": {
     "iopub.execute_input": "2025-04-06T06:54:25.893550Z",
     "iopub.status.busy": "2025-04-06T06:54:25.893327Z",
     "iopub.status.idle": "2025-04-06T06:54:25.896315Z",
     "shell.execute_reply": "2025-04-06T06:54:25.895649Z"
    },
    "id": "HBnblW22I8gH",
    "papermill": {
     "duration": 0.010193,
     "end_time": "2025-04-06T06:54:25.897632",
     "exception": false,
     "start_time": "2025-04-06T06:54:25.887439",
     "status": "completed"
    },
    "tags": []
   },
   "outputs": [],
   "source": [
    "batch_size = 32\n",
    "epochs = 25\n",
    "learning_rate = 0.001"
   ]
  },
  {
   "cell_type": "markdown",
   "id": "7d1e7833",
   "metadata": {
    "papermill": {
     "duration": 0.005092,
     "end_time": "2025-04-06T06:54:25.908084",
     "exception": false,
     "start_time": "2025-04-06T06:54:25.902992",
     "status": "completed"
    },
    "tags": []
   },
   "source": [
    "# Section 4: Define the Network"
   ]
  },
  {
   "cell_type": "code",
   "execution_count": 7,
   "id": "39c25197",
   "metadata": {
    "execution": {
     "iopub.execute_input": "2025-04-06T06:54:25.919426Z",
     "iopub.status.busy": "2025-04-06T06:54:25.919211Z",
     "iopub.status.idle": "2025-04-06T06:54:26.085067Z",
     "shell.execute_reply": "2025-04-06T06:54:26.083946Z"
    },
    "id": "HGx3fvpwI8jB",
    "outputId": "942ca164-a8f0-4135-d81f-01a6a744edac",
    "papermill": {
     "duration": 0.173264,
     "end_time": "2025-04-06T06:54:26.086614",
     "exception": false,
     "start_time": "2025-04-06T06:54:25.913350",
     "status": "completed"
    },
    "tags": []
   },
   "outputs": [
    {
     "name": "stdout",
     "output_type": "stream",
     "text": [
      "MNISTModel(\n",
      "  (flatten): Flatten(start_dim=1, end_dim=-1)\n",
      "  (fc1): Linear(in_features=784, out_features=100, bias=True)\n",
      "  (fc2): Linear(in_features=100, out_features=200, bias=True)\n",
      "  (fc3): Linear(in_features=200, out_features=10, bias=True)\n",
      ")\n"
     ]
    }
   ],
   "source": [
    "class MNISTModel(nn.Module):\n",
    "    def __init__(self):\n",
    "        super(MNISTModel, self).__init__()\n",
    "        self.flatten = nn.Flatten() # Flatten the input image (e.g., from 28x28 to 784)\n",
    "        self.fc1 = nn.Linear(28*28, 100)      # First fully connected layer (input: 784, output: 100)\n",
    "        self.fc2 = nn.Linear(100, 200)      # Second fully connected layer (input: 100, output: 200)\n",
    "        self.fc3 = nn.Linear(200, 10)      # Output layer (input: 200, output: 10 for classification)\n",
    "\n",
    "    def forward(self, x):\n",
    "        x = self.flatten(x)  # Flatten the input\n",
    "        x = torch.sigmoid(self.fc1(x))  # Apply sigmoid to output of fc1\n",
    "        x = torch.sigmoid(self.fc2(x))  # Apply sigmoid to output of fc2\n",
    "        x = self.fc3(x) # Pass through final layer without activation\n",
    "        return x\n",
    "\n",
    "model = MNISTModel()\n",
    "model = model.to(\"cuda\") # Instantiate the model and move it to the selected device\n",
    "print(model)\n",
    "\n",
    "criterion = nn.CrossEntropyLoss()  # Define loss function (e.g., CrossEntropyLoss)\n",
    "optimizer = optim.Adam(model.parameters(), lr = learning_rate)  # Define optimizer (e.g., Adam with model parameters and learning rate)\n"
   ]
  },
  {
   "cell_type": "markdown",
   "id": "1683c3f3",
   "metadata": {
    "papermill": {
     "duration": 0.005317,
     "end_time": "2025-04-06T06:54:26.097792",
     "exception": false,
     "start_time": "2025-04-06T06:54:26.092475",
     "status": "completed"
    },
    "tags": []
   },
   "source": [
    "# Section 5: Train the Network"
   ]
  },
  {
   "cell_type": "code",
   "execution_count": 8,
   "id": "ac156b91",
   "metadata": {
    "execution": {
     "iopub.execute_input": "2025-04-06T06:54:26.109499Z",
     "iopub.status.busy": "2025-04-06T06:54:26.109244Z",
     "iopub.status.idle": "2025-04-06T06:58:03.423328Z",
     "shell.execute_reply": "2025-04-06T06:58:03.422188Z"
    },
    "id": "6kju-ECgI8lb",
    "outputId": "df1053ba-b26f-4d18-dcb3-3773230b3a2e",
    "papermill": {
     "duration": 217.32181,
     "end_time": "2025-04-06T06:58:03.425065",
     "exception": false,
     "start_time": "2025-04-06T06:54:26.103255",
     "status": "completed"
    },
    "tags": []
   },
   "outputs": [
    {
     "name": "stdout",
     "output_type": "stream",
     "text": [
      "Epoch 1/25, Loss: 1.4510\n",
      "Epoch 2/25, Loss: 1.2042\n",
      "Epoch 3/25, Loss: 1.1553\n",
      "Epoch 4/25, Loss: 1.1264\n",
      "Epoch 5/25, Loss: 1.1085\n",
      "Epoch 6/25, Loss: 1.0949\n",
      "Epoch 7/25, Loss: 1.0851\n",
      "Epoch 8/25, Loss: 1.0763\n",
      "Epoch 9/25, Loss: 1.0684\n",
      "Epoch 10/25, Loss: 1.0619\n",
      "Epoch 11/25, Loss: 1.0551\n",
      "Epoch 12/25, Loss: 1.0518\n",
      "Epoch 13/25, Loss: 1.0455\n",
      "Epoch 14/25, Loss: 1.0405\n",
      "Epoch 15/25, Loss: 1.0376\n",
      "Epoch 16/25, Loss: 1.0329\n",
      "Epoch 17/25, Loss: 1.0293\n",
      "Epoch 18/25, Loss: 1.0253\n",
      "Epoch 19/25, Loss: 1.0218\n",
      "Epoch 20/25, Loss: 1.0177\n",
      "Epoch 21/25, Loss: 1.0147\n",
      "Epoch 22/25, Loss: 1.0113\n",
      "Epoch 23/25, Loss: 1.0082\n",
      "Epoch 24/25, Loss: 1.0060\n",
      "Epoch 25/25, Loss: 1.0021\n"
     ]
    }
   ],
   "source": [
    "# Section 5: Train the Network\n",
    "train_loader = torch.utils.data.DataLoader(train_dataset, batch_size=batch_size, shuffle=True)  # Create DataLoader for training data with batch_size and shuffle=True\n",
    "test_loader = torch.utils.data.DataLoader(test_dataset, batch_size=batch_size, shuffle=False)   # Create DataLoader for test data with batch_size and shuffle=False\n",
    "\n",
    "for epoch in range(epochs):\n",
    "    model.train()  # Set model to training mode\n",
    "    running_loss = 0.0\n",
    "    for images, labels in train_loader:\n",
    "        images, labels = images.to(\"cuda\"), labels.to(\"cuda\")\n",
    "        # Move images and labels to the device (CPU or GPU)\n",
    "        # Zero the gradients\n",
    "        optimizer.zero_grad()\n",
    "        \n",
    "        # Forward pass through the model\n",
    "        outputs = model(images)\n",
    "        \n",
    "        # Compute the loss\n",
    "        loss = criterion(outputs, labels)\n",
    "\n",
    "        # Backward pass\n",
    "        loss.backward()\n",
    "        \n",
    "        # Optimizer step\n",
    "        optimizer.step()\n",
    "        \n",
    "        # Accumulate loss into running_loss\n",
    "        running_loss += loss.item()\n",
    "   \n",
    "    # Print average loss for the epoch\n",
    "    print(f'Epoch {epoch+1}/{epochs}, Loss: {running_loss/len(train_loader):.4f}')"
   ]
  },
  {
   "cell_type": "markdown",
   "id": "25660d54",
   "metadata": {
    "papermill": {
     "duration": 0.006392,
     "end_time": "2025-04-06T06:58:03.439923",
     "exception": false,
     "start_time": "2025-04-06T06:58:03.433531",
     "status": "completed"
    },
    "tags": []
   },
   "source": [
    "# Section 6: Perform Inference"
   ]
  },
  {
   "cell_type": "code",
   "execution_count": 9,
   "id": "d9ea3edb",
   "metadata": {
    "execution": {
     "iopub.execute_input": "2025-04-06T06:58:03.453550Z",
     "iopub.status.busy": "2025-04-06T06:58:03.453298Z",
     "iopub.status.idle": "2025-04-06T06:58:04.606431Z",
     "shell.execute_reply": "2025-04-06T06:58:04.605724Z"
    },
    "id": "MhuT61LWI8n2",
    "papermill": {
     "duration": 1.161767,
     "end_time": "2025-04-06T06:58:04.608004",
     "exception": false,
     "start_time": "2025-04-06T06:58:03.446237",
     "status": "completed"
    },
    "tags": []
   },
   "outputs": [],
   "source": [
    "# Section 6: Perform Inference\n",
    "model.eval()  # Set the model to evaluation mode\n",
    "predictions = []\n",
    "\n",
    "with torch.no_grad():\n",
    "    for images, _ in test_loader:\n",
    "        images = images.to(\"cuda\") # Move images to the device\n",
    "        # Perform a forward pass through the model\n",
    "        outputs = model(images)\n",
    "        \n",
    "        # Get the predicted class labels (e.g., using torch.max)\n",
    "        _, predicted = torch.max(outputs, 1)\n",
    "        \n",
    "        # Append predictions to the predictions list\n",
    "        predictions.extend(predicted.cpu().numpy())"
   ]
  },
  {
   "cell_type": "markdown",
   "id": "b8cf8a94",
   "metadata": {
    "papermill": {
     "duration": 0.00624,
     "end_time": "2025-04-06T06:58:04.621230",
     "exception": false,
     "start_time": "2025-04-06T06:58:04.614990",
     "status": "completed"
    },
    "tags": []
   },
   "source": [
    "# Section 7: Output"
   ]
  },
  {
   "cell_type": "code",
   "execution_count": 10,
   "id": "2eba0334",
   "metadata": {
    "execution": {
     "iopub.execute_input": "2025-04-06T06:58:04.634674Z",
     "iopub.status.busy": "2025-04-06T06:58:04.634428Z",
     "iopub.status.idle": "2025-04-06T06:58:04.787512Z",
     "shell.execute_reply": "2025-04-06T06:58:04.786662Z"
    },
    "id": "CKqMb-rQI8q0",
    "outputId": "7d00d48a-1304-4a58-ce1f-0f964cf78287",
    "papermill": {
     "duration": 0.161196,
     "end_time": "2025-04-06T06:58:04.788723",
     "exception": false,
     "start_time": "2025-04-06T06:58:04.627527",
     "status": "completed"
    },
    "tags": []
   },
   "outputs": [
    {
     "name": "stdout",
     "output_type": "stream",
     "text": [
      "Predicted digit: 7\n"
     ]
    },
    {
     "data": {
      "image/png": "[encoded data removed]",
      "text/plain": [
       "<Figure size 640x480 with 1 Axes>"
      ]
     },
     "metadata": {},
     "output_type": "display_data"
    }
   ],
   "source": [
    "index = 0  # Choose an index to visualize\n",
    "\n",
    "# Print the predicted digit at the chosen index\n",
    "print(f'Predicted digit: {predictions[index]}')\n",
    "\n",
    "# Display the corresponding image from the test dataset\n",
    "plt.imshow(test_dataset.data[index], cmap='gray')\n",
    "plt.title(f'Predicted: {predictions[index]}')\n",
    "plt.show()"
   ]
  },
  {
   "cell_type": "code",
   "execution_count": null,
   "id": "a68d06af",
   "metadata": {
    "id": "nxmvRyzLJat2",
    "papermill": {
     "duration": 0.00658,
     "end_time": "2025-04-06T06:58:04.802226",
     "exception": false,
     "start_time": "2025-04-06T06:58:04.795646",
     "status": "completed"
    },
    "tags": []
   },
   "outputs": [],
   "source": []
  },
  {
   "cell_type": "code",
   "execution_count": null,
   "id": "5d5f01c6",
   "metadata": {
    "id": "sj_u91-lJaxo",
    "papermill": {
     "duration": 0.006504,
     "end_time": "2025-04-06T06:58:04.815452",
     "exception": false,
     "start_time": "2025-04-06T06:58:04.808948",
     "status": "completed"
    },
    "tags": []
   },
   "outputs": [],
   "source": []
  }
 ],
 "metadata": {
  "colab": {
   "provenance": []
  },
  "kaggle": {
   "accelerator": "gpu",
   "dataSources": [],
   "dockerImageVersionId": 30918,
   "isGpuEnabled": true,
   "isInternetEnabled": true,
   "language": "python",
   "sourceType": "notebook"
  },
  "kernelspec": {
   "display_name": "Python 3 (ipykernel)",
   "language": "python",
   "name": "python3"
  },
  "language_info": {
   "codemirror_mode": {
    "name": "ipython",
    "version": 3
   },
   "file_extension": ".py",
   "mimetype": "text/x-python",
   "name": "python",
   "nbconvert_exporter": "python",
   "pygments_lexer": "ipython3",
   "version": "3.11.7"
  },
  "papermill": {
   "default_parameters": {},
   "duration": 236.117882,
   "end_time": "2025-04-06T06:58:06.142347",
   "environment_variables": {},
   "exception": null,
   "input_path": "__notebook__.ipynb",
   "output_path": "__notebook__.ipynb",
   "parameters": {},
   "start_time": "2025-04-06T06:54:10.024465",
   "version": "2.6.0"
  }
 },
 "nbformat": 4,
 "nbformat_minor": 5
}
